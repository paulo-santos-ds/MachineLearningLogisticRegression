{
  "cells": [
    {
      "cell_type": "markdown",
      "metadata": {
        "id": "view-in-github",
        "colab_type": "text"
      },
      "source": [
        "<a href=\"https://colab.research.google.com/github/paulo-santos-ds/MachineLearningLogisticRegression/blob/main/Mnist.ipynb\" target=\"_parent\"><img src=\"https://colab.research.google.com/assets/colab-badge.svg\" alt=\"Open In Colab\"/></a>"
      ]
    },
    {
      "cell_type": "code",
      "execution_count": 1,
      "id": "57e56b65",
      "metadata": {
        "id": "57e56b65"
      },
      "outputs": [],
      "source": [
        "#!pip install keras\n",
        "#!pip install tensorflow"
      ]
    },
    {
      "cell_type": "code",
      "execution_count": 2,
      "id": "21baff05",
      "metadata": {
        "id": "21baff05"
      },
      "outputs": [],
      "source": [
        "import pandas as pd\n",
        "import numpy as np\n",
        "import matplotlib.pyplot as plt\n",
        "from keras.datasets import mnist"
      ]
    },
    {
      "cell_type": "code",
      "execution_count": 3,
      "id": "b03ef5b6",
      "metadata": {
        "id": "b03ef5b6",
        "colab": {
          "base_uri": "https://localhost:8080/"
        },
        "outputId": "13cffa29-7348-4ea9-c4b3-9a58ed5266db"
      },
      "outputs": [
        {
          "output_type": "stream",
          "name": "stdout",
          "text": [
            "Downloading data from https://storage.googleapis.com/tensorflow/tf-keras-datasets/mnist.npz\n",
            "11493376/11490434 [==============================] - 0s 0us/step\n",
            "11501568/11490434 [==============================] - 0s 0us/step\n"
          ]
        }
      ],
      "source": [
        "(train_X, train_y), (test_X, test_y) = mnist.load_data()"
      ]
    },
    {
      "cell_type": "code",
      "execution_count": 4,
      "id": "0dff278c",
      "metadata": {
        "id": "0dff278c",
        "outputId": "821f220c-f2cd-4ee9-e827-81e00e7b32f7",
        "colab": {
          "base_uri": "https://localhost:8080/",
          "height": 302
        }
      },
      "outputs": [
        {
          "output_type": "display_data",
          "data": {
            "text/plain": [
              "<Figure size 432x288 with 0 Axes>"
            ]
          },
          "metadata": {}
        },
        {
          "output_type": "display_data",
          "data": {
            "text/plain": [
              "<Figure size 288x288 with 1 Axes>"
            ],
            "image/png": "[encoded data removed]"
          },
          "metadata": {
            "needs_background": "light"
          }
        }
      ],
      "source": [
        "plt.gray()\n",
        "n = 11121### linha na matriz train de 0 a 59999\n",
        "plt.matshow(train_X[4])\n",
        "plt.title(train_y[4])\n",
        "plt.show()"
      ]
    },
    {
      "cell_type": "code",
      "execution_count": 5,
      "id": "1f53d005",
      "metadata": {
        "id": "1f53d005",
        "outputId": "455acaf2-beed-4c67-d52e-56a7acc3f6dc",
        "colab": {
          "base_uri": "https://localhost:8080/"
        }
      },
      "outputs": [
        {
          "output_type": "execute_result",
          "data": {
            "text/plain": [
              "(60000, 28, 28)"
            ]
          },
          "metadata": {},
          "execution_count": 5
        }
      ],
      "source": [
        "train_X.shape"
      ]
    },
    {
      "cell_type": "code",
      "execution_count": 6,
      "id": "94be1451",
      "metadata": {
        "id": "94be1451"
      },
      "outputs": [],
      "source": [
        "train_X = train_X.reshape((train_X.shape[0],28*28))\n",
        "\n",
        "test_X = test_X.reshape((test_X.shape[0],28*28))"
      ]
    },
    {
      "cell_type": "markdown",
      "id": "56e84856",
      "metadata": {
        "id": "56e84856"
      },
      "source": [
        "### Split treino e validação"
      ]
    },
    {
      "cell_type": "code",
      "execution_count": 7,
      "id": "7bd3f360",
      "metadata": {
        "id": "7bd3f360"
      },
      "outputs": [],
      "source": [
        "from sklearn.model_selection import train_test_split"
      ]
    },
    {
      "cell_type": "code",
      "execution_count": 8,
      "id": "94f1d313",
      "metadata": {
        "id": "94f1d313"
      },
      "outputs": [],
      "source": [
        "train_X, val_X, train_y, val_y = train_test_split(train_X, train_y, test_size=0.2, random_state=42)"
      ]
    },
    {
      "cell_type": "markdown",
      "id": "9c0385e0",
      "metadata": {
        "id": "9c0385e0"
      },
      "source": [
        "### Treinar modelo"
      ]
    },
    {
      "cell_type": "code",
      "execution_count": 9,
      "id": "fda9602f",
      "metadata": {
        "id": "fda9602f"
      },
      "outputs": [],
      "source": [
        "from sklearn.ensemble import RandomForestClassifier"
      ]
    },
    {
      "cell_type": "code",
      "execution_count": 10,
      "id": "b3f38353",
      "metadata": {
        "id": "b3f38353"
      },
      "outputs": [],
      "source": [
        "clf = RandomForestClassifier(random_state=23, max_depth= 10)"
      ]
    },
    {
      "cell_type": "code",
      "execution_count": 11,
      "id": "6062dd24",
      "metadata": {
        "id": "6062dd24",
        "outputId": "1b31a2cd-a0b1-4ec9-bdd9-ba1270e482fe",
        "colab": {
          "base_uri": "https://localhost:8080/"
        }
      },
      "outputs": [
        {
          "output_type": "stream",
          "name": "stdout",
          "text": [
            "CPU times: user 23.5 s, sys: 90.4 ms, total: 23.6 s\n",
            "Wall time: 27.5 s\n"
          ]
        },
        {
          "output_type": "execute_result",
          "data": {
            "text/plain": [
              "RandomForestClassifier(max_depth=10, random_state=23)"
            ]
          },
          "metadata": {},
          "execution_count": 11
        }
      ],
      "source": [
        "%%time\n",
        "clf.fit(train_X, train_y)"
      ]
    },
    {
      "cell_type": "markdown",
      "id": "4f5c4a10",
      "metadata": {
        "id": "4f5c4a10"
      },
      "source": [
        "#### Principais métricas\n",
        "Acurácia\n",
        "\n",
        "Precisão\n",
        "\n",
        "Recall\n",
        "\n",
        "F1"
      ]
    },
    {
      "cell_type": "code",
      "execution_count": 12,
      "id": "678411c2",
      "metadata": {
        "id": "678411c2",
        "outputId": "434078e9-82c7-4d1e-fa74-0ad433f65298",
        "colab": {
          "base_uri": "https://localhost:8080/"
        }
      },
      "outputs": [
        {
          "output_type": "execute_result",
          "data": {
            "text/plain": [
              "0.7714285714285715"
            ]
          },
          "metadata": {},
          "execution_count": 12
        }
      ],
      "source": [
        "## precisão \n",
        "### total de casos 100 casos, sendo 30 deles 1 e 70 0\n",
        "## modelo classificou 35 como 1, e acertou 27\n",
        "### precisão = acertou/(acertou+errou) = acertou/(classificou como X)\n",
        "27/35 ## precisao"
      ]
    },
    {
      "cell_type": "code",
      "execution_count": 13,
      "id": "312d4c23",
      "metadata": {
        "id": "312d4c23",
        "outputId": "c26e3dab-9daa-4cff-9ca9-da687c589415",
        "colab": {
          "base_uri": "https://localhost:8080/"
        }
      },
      "outputs": [
        {
          "output_type": "execute_result",
          "data": {
            "text/plain": [
              "0.92"
            ]
          },
          "metadata": {},
          "execution_count": 13
        }
      ],
      "source": [
        "(65+27)/100 ## acurácia"
      ]
    },
    {
      "cell_type": "code",
      "execution_count": 14,
      "id": "2394a5d6",
      "metadata": {
        "id": "2394a5d6",
        "outputId": "6672b639-0abe-45d2-9152-a721aab5d64a",
        "colab": {
          "base_uri": "https://localhost:8080/"
        }
      },
      "outputs": [
        {
          "output_type": "execute_result",
          "data": {
            "text/plain": [
              "0.9"
            ]
          },
          "metadata": {},
          "execution_count": 14
        }
      ],
      "source": [
        "## recall\n",
        "## dado o qeu vc precisava classificar como 1, o % q vc classificou corretamente como 1\n",
        "27/30"
      ]
    },
    {
      "cell_type": "code",
      "execution_count": 15,
      "id": "41e533b4",
      "metadata": {
        "scrolled": true,
        "id": "41e533b4",
        "outputId": "38789925-7bc5-49b3-bc6e-53c48b4aa317",
        "colab": {
          "base_uri": "https://localhost:8080/"
        }
      },
      "outputs": [
        {
          "output_type": "execute_result",
          "data": {
            "text/plain": [
              "0.8299401197604791"
            ]
          },
          "metadata": {},
          "execution_count": 15
        }
      ],
      "source": [
        "2*(0.77*0.9)/(0.77+0.9)## F1"
      ]
    },
    {
      "cell_type": "markdown",
      "id": "c94f25d8",
      "metadata": {
        "id": "c94f25d8"
      },
      "source": [
        "##### Continuando a verificação de performance"
      ]
    },
    {
      "cell_type": "code",
      "execution_count": 16,
      "id": "88cef651",
      "metadata": {
        "id": "88cef651"
      },
      "outputs": [],
      "source": [
        "from sklearn.metrics import accuracy_score\n",
        "from sklearn.metrics import precision_score\n",
        "from sklearn.metrics import recall_score\n",
        "from sklearn.metrics import f1_score"
      ]
    },
    {
      "cell_type": "code",
      "execution_count": 17,
      "id": "09287661",
      "metadata": {
        "id": "09287661",
        "outputId": "b9245161-e3aa-42ca-930a-37479c3504d0",
        "colab": {
          "base_uri": "https://localhost:8080/"
        }
      },
      "outputs": [
        {
          "output_type": "stream",
          "name": "stdout",
          "text": [
            "Acurácia: 0.94675\n",
            "Precisao: [0.97531915 0.98108926 0.95400341 0.92288761 0.93367347 0.92844203\n",
            " 0.97366185 0.93841416 0.93017241 0.92629816] \n",
            "\n",
            "Recall: [0.97366185 0.96074074 0.93411176 0.94856661 0.94006849 0.96516008\n",
            " 0.96708861 0.95758052 0.9358196  0.88692863] \n",
            "\n",
            "F1 [0.9744898  0.97080838 0.9439528  0.93555094 0.93686007 0.94644506\n",
            " 0.9703641  0.94790047 0.93298746 0.90618599] \n",
            "\n"
          ]
        }
      ],
      "source": [
        "pred = clf.predict(val_X)\n",
        "\n",
        "print('Acurácia:',accuracy_score(pred, val_y))\n",
        "print('Precisao:',precision_score(pred, val_y, average=None),'\\n')\n",
        "print('Recall:',recall_score(pred, val_y, average=None),'\\n')\n",
        "print('F1',f1_score(pred, val_y, average=None),'\\n')"
      ]
    },
    {
      "cell_type": "code",
      "execution_count": 18,
      "id": "6d649f37",
      "metadata": {
        "id": "6d649f37",
        "outputId": "03d75d11-ce6c-40b6-e64a-64ddefdcc207",
        "colab": {
          "base_uri": "https://localhost:8080/"
        }
      },
      "outputs": [
        {
          "output_type": "stream",
          "name": "stdout",
          "text": [
            "Acurácia: 0.9471\n",
            "Precisao: [0.9877551  0.9876652  0.94379845 0.93663366 0.9185336  0.93049327\n",
            " 0.96868476 0.93093385 0.93223819 0.92864222] \n",
            "\n",
            "Recall: [0.96993988 0.97393571 0.94655005 0.946      0.94847529 0.9617613\n",
            " 0.95277207 0.95413759 0.93223819 0.88647114] \n",
            "\n",
            "F1 [0.97876643 0.98075241 0.94517225 0.94129353 0.93326436 0.94586895\n",
            " 0.96066253 0.94239291 0.93223819 0.9070668 ] \n",
            "\n"
          ]
        }
      ],
      "source": [
        "pred = clf.predict(test_X)\n",
        "\n",
        "print('Acurácia:',accuracy_score(pred, test_y))\n",
        "print('Precisao:',precision_score(pred, test_y, average=None),'\\n')\n",
        "print('Recall:',recall_score(pred, test_y, average=None),'\\n')\n",
        "print('F1',f1_score(pred, test_y, average=None),'\\n')"
      ]
    },
    {
      "cell_type": "code",
      "execution_count": 19,
      "id": "c5406808",
      "metadata": {
        "id": "c5406808"
      },
      "outputs": [],
      "source": [
        "from sklearn.metrics import classification_report"
      ]
    },
    {
      "cell_type": "code",
      "execution_count": 20,
      "id": "4dde5324",
      "metadata": {
        "id": "4dde5324",
        "outputId": "9b9e02ea-7d46-4d52-fab5-a2772333d383",
        "colab": {
          "base_uri": "https://localhost:8080/"
        }
      },
      "outputs": [
        {
          "output_type": "stream",
          "name": "stdout",
          "text": [
            "              precision    recall  f1-score   support\n",
            "\n",
            "           0       0.98      0.97      0.97      1177\n",
            "           1       0.98      0.96      0.97      1350\n",
            "           2       0.95      0.93      0.94      1199\n",
            "           3       0.92      0.95      0.94      1186\n",
            "           4       0.93      0.94      0.94      1168\n",
            "           5       0.93      0.97      0.95      1062\n",
            "           6       0.97      0.97      0.97      1185\n",
            "           7       0.94      0.96      0.95      1273\n",
            "           8       0.93      0.94      0.93      1153\n",
            "           9       0.93      0.89      0.91      1247\n",
            "\n",
            "    accuracy                           0.95     12000\n",
            "   macro avg       0.95      0.95      0.95     12000\n",
            "weighted avg       0.95      0.95      0.95     12000\n",
            "\n"
          ]
        }
      ],
      "source": [
        "pred = clf.predict(val_X)\n",
        "\n",
        "print(classification_report(pred, val_y, labels = clf.classes_))"
      ]
    },
    {
      "cell_type": "code",
      "execution_count": 21,
      "id": "8914787f",
      "metadata": {
        "id": "8914787f",
        "outputId": "1ba5c427-333c-42cd-dd58-c01c182521ec",
        "colab": {
          "base_uri": "https://localhost:8080/"
        }
      },
      "outputs": [
        {
          "output_type": "stream",
          "name": "stdout",
          "text": [
            "              precision    recall  f1-score   support\n",
            "\n",
            "           0       0.99      0.97      0.98       998\n",
            "           1       0.99      0.97      0.98      1151\n",
            "           2       0.94      0.95      0.95      1029\n",
            "           3       0.94      0.95      0.94      1000\n",
            "           4       0.92      0.95      0.93       951\n",
            "           5       0.93      0.96      0.95       863\n",
            "           6       0.97      0.95      0.96       974\n",
            "           7       0.93      0.95      0.94      1003\n",
            "           8       0.93      0.93      0.93       974\n",
            "           9       0.93      0.89      0.91      1057\n",
            "\n",
            "    accuracy                           0.95     10000\n",
            "   macro avg       0.95      0.95      0.95     10000\n",
            "weighted avg       0.95      0.95      0.95     10000\n",
            "\n"
          ]
        }
      ],
      "source": [
        "pred = clf.predict(test_X)\n",
        "\n",
        "print(classification_report(pred, test_y, labels = clf.classes_))"
      ]
    },
    {
      "cell_type": "markdown",
      "id": "a9ea3885",
      "metadata": {
        "id": "a9ea3885"
      },
      "source": [
        "### Olhando via proba"
      ]
    },
    {
      "cell_type": "code",
      "execution_count": 22,
      "id": "eba04ba7",
      "metadata": {
        "id": "eba04ba7",
        "outputId": "08f152af-b184-4bc2-c25c-f1d923a56999",
        "colab": {
          "base_uri": "https://localhost:8080/",
          "height": 206
        }
      },
      "outputs": [
        {
          "output_type": "execute_result",
          "data": {
            "text/plain": [
              "          0         1         2         3         4         5         6  \\\n",
              "0  0.006416  0.003291  0.007887  0.037674  0.013866  0.032936  0.006452   \n",
              "1  0.003398  0.001714  0.010832  0.890778  0.002463  0.050093  0.001266   \n",
              "2  0.006381  0.012276  0.018179  0.036577  0.013008  0.040343  0.013553   \n",
              "3  0.002001  0.008034  0.004943  0.012215  0.102780  0.017840  0.005455   \n",
              "4  0.006925  0.002487  0.065808  0.842140  0.001019  0.028669  0.003916   \n",
              "\n",
              "          7         8         9  \n",
              "0  0.851836  0.013779  0.025863  \n",
              "1  0.001024  0.030452  0.007979  \n",
              "2  0.007012  0.834895  0.017777  \n",
              "3  0.041193  0.049899  0.755642  \n",
              "4  0.001336  0.039140  0.008561  "
            ],
            "text/html": [
              "\n",
              "  <div id=\"df-a9a6aa05-7b11-4453-bccd-38d0765a6212\">\n",
              "    <div class=\"colab-df-container\">\n",
              "      <div>\n",
              "<style scoped>\n",
              "    .dataframe tbody tr th:only-of-type {\n",
              "        vertical-align: middle;\n",
              "    }\n",
              "\n",
              "    .dataframe tbody tr th {\n",
              "        vertical-align: top;\n",
              "    }\n",
              "\n",
              "    .dataframe thead th {\n",
              "        text-align: right;\n",
              "    }\n",
              "</style>\n",
              "<table border=\"1\" class=\"dataframe\">\n",
              "  <thead>\n",
              "    <tr style=\"text-align: right;\">\n",
              "      <th></th>\n",
              "      <th>0</th>\n",
              "      <th>1</th>\n",
              "      <th>2</th>\n",
              "      <th>3</th>\n",
              "      <th>4</th>\n",
              "      <th>5</th>\n",
              "      <th>6</th>\n",
              "      <th>7</th>\n",
              "      <th>8</th>\n",
              "      <th>9</th>\n",
              "    </tr>\n",
              "  </thead>\n",
              "  <tbody>\n",
              "    <tr>\n",
              "      <th>0</th>\n",
              "      <td>0.006416</td>\n",
              "      <td>0.003291</td>\n",
              "      <td>0.007887</td>\n",
              "      <td>0.037674</td>\n",
              "      <td>0.013866</td>\n",
              "      <td>0.032936</td>\n",
              "      <td>0.006452</td>\n",
              "      <td>0.851836</td>\n",
              "      <td>0.013779</td>\n",
              "      <td>0.025863</td>\n",
              "    </tr>\n",
              "    <tr>\n",
              "      <th>1</th>\n",
              "      <td>0.003398</td>\n",
              "      <td>0.001714</td>\n",
              "      <td>0.010832</td>\n",
              "      <td>0.890778</td>\n",
              "      <td>0.002463</td>\n",
              "      <td>0.050093</td>\n",
              "      <td>0.001266</td>\n",
              "      <td>0.001024</td>\n",
              "      <td>0.030452</td>\n",
              "      <td>0.007979</td>\n",
              "    </tr>\n",
              "    <tr>\n",
              "      <th>2</th>\n",
              "      <td>0.006381</td>\n",
              "      <td>0.012276</td>\n",
              "      <td>0.018179</td>\n",
              "      <td>0.036577</td>\n",
              "      <td>0.013008</td>\n",
              "      <td>0.040343</td>\n",
              "      <td>0.013553</td>\n",
              "      <td>0.007012</td>\n",
              "      <td>0.834895</td>\n",
              "      <td>0.017777</td>\n",
              "    </tr>\n",
              "    <tr>\n",
              "      <th>3</th>\n",
              "      <td>0.002001</td>\n",
              "      <td>0.008034</td>\n",
              "      <td>0.004943</td>\n",
              "      <td>0.012215</td>\n",
              "      <td>0.102780</td>\n",
              "      <td>0.017840</td>\n",
              "      <td>0.005455</td>\n",
              "      <td>0.041193</td>\n",
              "      <td>0.049899</td>\n",
              "      <td>0.755642</td>\n",
              "    </tr>\n",
              "    <tr>\n",
              "      <th>4</th>\n",
              "      <td>0.006925</td>\n",
              "      <td>0.002487</td>\n",
              "      <td>0.065808</td>\n",
              "      <td>0.842140</td>\n",
              "      <td>0.001019</td>\n",
              "      <td>0.028669</td>\n",
              "      <td>0.003916</td>\n",
              "      <td>0.001336</td>\n",
              "      <td>0.039140</td>\n",
              "      <td>0.008561</td>\n",
              "    </tr>\n",
              "  </tbody>\n",
              "</table>\n",
              "</div>\n",
              "      <button class=\"colab-df-convert\" onclick=\"convertToInteractive('df-a9a6aa05-7b11-4453-bccd-38d0765a6212')\"\n",
              "              title=\"Convert this dataframe to an interactive table.\"\n",
              "              style=\"display:none;\">\n",
              "        \n",
              "  <svg xmlns=\"http://www.w3.org/2000/svg\" height=\"24px\"viewBox=\"0 0 24 24\"\n",
              "       width=\"24px\">\n",
              "    <path d=\"M0 0h24v24H0V0z\" fill=\"none\"/>\n",
              "    <path d=\"M18.56 5.44l.94 2.06.94-2.06 2.06-.94-2.06-.94-.94-2.06-.94 2.06-2.06.94zm-11 1L8.5 8.5l.94-2.06 2.06-.94-2.06-.94L8.5 2.5l-.94 2.06-2.06.94zm10 10l.94 2.06.94-2.06 2.06-.94-2.06-.94-.94-2.06-.94 2.06-2.06.94z\"/><path d=\"M17.41 7.96l-1.37-1.37c-.4-.4-.92-.59-1.43-.59-.52 0-1.04.2-1.43.59L10.3 9.45l-7.72 7.72c-.78.78-.78 2.05 0 2.83L4 21.41c.39.39.9.59 1.41.59.51 0 1.02-.2 1.41-.59l7.78-7.78 2.81-2.81c.8-.78.8-2.07 0-2.86zM5.41 20L4 18.59l7.72-7.72 1.47 1.35L5.41 20z\"/>\n",
              "  </svg>\n",
              "      </button>\n",
              "      \n",
              "  <style>\n",
              "    .colab-df-container {\n",
              "      display:flex;\n",
              "      flex-wrap:wrap;\n",
              "      gap: 12px;\n",
              "    }\n",
              "\n",
              "    .colab-df-convert {\n",
              "      background-color: #E8F0FE;\n",
              "      border: none;\n",
              "      border-radius: 50%;\n",
              "      cursor: pointer;\n",
              "      display: none;\n",
              "      fill: #1967D2;\n",
              "      height: 32px;\n",
              "      padding: 0 0 0 0;\n",
              "      width: 32px;\n",
              "    }\n",
              "\n",
              "    .colab-df-convert:hover {\n",
              "      background-color: #E2EBFA;\n",
              "      box-shadow: 0px 1px 2px rgba(60, 64, 67, 0.3), 0px 1px 3px 1px rgba(60, 64, 67, 0.15);\n",
              "      fill: #174EA6;\n",
              "    }\n",
              "\n",
              "    [theme=dark] .colab-df-convert {\n",
              "      background-color: #3B4455;\n",
              "      fill: #D2E3FC;\n",
              "    }\n",
              "\n",
              "    [theme=dark] .colab-df-convert:hover {\n",
              "      background-color: #434B5C;\n",
              "      box-shadow: 0px 1px 3px 1px rgba(0, 0, 0, 0.15);\n",
              "      filter: drop-shadow(0px 1px 2px rgba(0, 0, 0, 0.3));\n",
              "      fill: #FFFFFF;\n",
              "    }\n",
              "  </style>\n",
              "\n",
              "      <script>\n",
              "        const buttonEl =\n",
              "          document.querySelector('#df-a9a6aa05-7b11-4453-bccd-38d0765a6212 button.colab-df-convert');\n",
              "        buttonEl.style.display =\n",
              "          google.colab.kernel.accessAllowed ? 'block' : 'none';\n",
              "\n",
              "        async function convertToInteractive(key) {\n",
              "          const element = document.querySelector('#df-a9a6aa05-7b11-4453-bccd-38d0765a6212');\n",
              "          const dataTable =\n",
              "            await google.colab.kernel.invokeFunction('convertToInteractive',\n",
              "                                                     [key], {});\n",
              "          if (!dataTable) return;\n",
              "\n",
              "          const docLinkHtml = 'Like what you see? Visit the ' +\n",
              "            '<a target=\"_blank\" href=https://colab.research.google.com/notebooks/data_table.ipynb>data table notebook</a>'\n",
              "            + ' to learn more about interactive tables.';\n",
              "          element.innerHTML = '';\n",
              "          dataTable['output_type'] = 'display_data';\n",
              "          await google.colab.output.renderOutput(dataTable, element);\n",
              "          const docLink = document.createElement('div');\n",
              "          docLink.innerHTML = docLinkHtml;\n",
              "          element.appendChild(docLink);\n",
              "        }\n",
              "      </script>\n",
              "    </div>\n",
              "  </div>\n",
              "  "
            ]
          },
          "metadata": {},
          "execution_count": 22
        }
      ],
      "source": [
        "df = pd.DataFrame(clf.predict_proba(val_X))\n",
        "df.head()"
      ]
    },
    {
      "cell_type": "code",
      "execution_count": 23,
      "id": "06dbb05f",
      "metadata": {
        "id": "06dbb05f",
        "outputId": "320e9f84-32df-4add-9adc-8b52ad7b6424",
        "colab": {
          "base_uri": "https://localhost:8080/"
        }
      },
      "outputs": [
        {
          "output_type": "execute_result",
          "data": {
            "text/plain": [
              "Int64Index([4, 9], dtype='int64')"
            ]
          },
          "metadata": {},
          "execution_count": 23
        }
      ],
      "source": [
        "df.columns[df.iloc[3]>0.1]"
      ]
    }
  ],
  "metadata": {
    "kernelspec": {
      "display_name": "Python 3 (ipykernel)",
      "language": "python",
      "name": "python3"
    },
    "language_info": {
      "codemirror_mode": {
        "name": "ipython",
        "version": 3
      },
      "file_extension": ".py",
      "mimetype": "text/x-python",
      "name": "python",
      "nbconvert_exporter": "python",
      "pygments_lexer": "ipython3",
      "version": "3.9.7"
    },
    "colab": {
      "name": "Mnist.ipynb",
      "provenance": [],
      "include_colab_link": true
    }
  },
  "nbformat": 4,
  "nbformat_minor": 5
}